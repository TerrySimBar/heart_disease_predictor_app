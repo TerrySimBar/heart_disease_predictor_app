{
 "cells": [
  {
   "cell_type": "markdown",
   "metadata": {},
   "source": [
    "# Create the binary classifier model"
   ]
  },
  {
   "cell_type": "code",
   "execution_count": 119,
   "metadata": {},
   "outputs": [],
   "source": [
    "#Import the NumPy and Pandas dependencies   \n",
    "import numpy as np\n",
    "import pandas as pd\n",
    "\n",
    "# Import the Path module from the pathlib library\n",
    "from pathlib import Path\n",
    "\n",
    "# Import SKLearn dependencies\n",
    "from sklearn.metrics import balanced_accuracy_score, confusion_matrix, classification_report\n",
    "from sklearn.model_selection import train_test_split\n",
    "from sklearn.linear_model import LogisticRegression\n",
    "\n",
    "# Import the RandomOverSampler module form imbalanced-learn\n",
    "from imblearn.over_sampling import RandomOverSampler\n",
    "\n",
    "# Import confusion_matrix\n",
    "from sklearn.metrics import confusion_matrix"
   ]
  },
  {
   "cell_type": "code",
   "execution_count": 120,
   "metadata": {},
   "outputs": [
    {
     "data": {
      "text/html": [
       "<div>\n",
       "<style scoped>\n",
       "    .dataframe tbody tr th:only-of-type {\n",
       "        vertical-align: middle;\n",
       "    }\n",
       "\n",
       "    .dataframe tbody tr th {\n",
       "        vertical-align: top;\n",
       "    }\n",
       "\n",
       "    .dataframe thead th {\n",
       "        text-align: right;\n",
       "    }\n",
       "</style>\n",
       "<table border=\"1\" class=\"dataframe\">\n",
       "  <thead>\n",
       "    <tr style=\"text-align: right;\">\n",
       "      <th></th>\n",
       "      <th>_STATE</th>\n",
       "      <th>FMONTH</th>\n",
       "      <th>IDATE</th>\n",
       "      <th>IMONTH</th>\n",
       "      <th>IDAY</th>\n",
       "      <th>IYEAR</th>\n",
       "      <th>DISPCODE</th>\n",
       "      <th>SEQNO</th>\n",
       "      <th>_PSU</th>\n",
       "      <th>CTELENUM</th>\n",
       "      <th>...</th>\n",
       "      <th>_PAREC1</th>\n",
       "      <th>_PASTAE1</th>\n",
       "      <th>_LMTACT1</th>\n",
       "      <th>_LMTWRK1</th>\n",
       "      <th>_LMTSCL1</th>\n",
       "      <th>_RFSEAT2</th>\n",
       "      <th>_RFSEAT3</th>\n",
       "      <th>_FLSHOT6</th>\n",
       "      <th>_PNEUMO2</th>\n",
       "      <th>_AIDTST3</th>\n",
       "    </tr>\n",
       "  </thead>\n",
       "  <tbody>\n",
       "    <tr>\n",
       "      <th>0</th>\n",
       "      <td>1.0</td>\n",
       "      <td>1.0</td>\n",
       "      <td>b'01292015'</td>\n",
       "      <td>b'01'</td>\n",
       "      <td>b'29'</td>\n",
       "      <td>b'2015'</td>\n",
       "      <td>1200.0</td>\n",
       "      <td>2.015000e+09</td>\n",
       "      <td>2.015000e+09</td>\n",
       "      <td>1.0</td>\n",
       "      <td>...</td>\n",
       "      <td>4.0</td>\n",
       "      <td>2.0</td>\n",
       "      <td>1.0</td>\n",
       "      <td>1.0</td>\n",
       "      <td>1.0</td>\n",
       "      <td>1.0</td>\n",
       "      <td>1.0</td>\n",
       "      <td>NaN</td>\n",
       "      <td>NaN</td>\n",
       "      <td>1.0</td>\n",
       "    </tr>\n",
       "    <tr>\n",
       "      <th>1</th>\n",
       "      <td>1.0</td>\n",
       "      <td>1.0</td>\n",
       "      <td>b'01202015'</td>\n",
       "      <td>b'01'</td>\n",
       "      <td>b'20'</td>\n",
       "      <td>b'2015'</td>\n",
       "      <td>1100.0</td>\n",
       "      <td>2.015000e+09</td>\n",
       "      <td>2.015000e+09</td>\n",
       "      <td>1.0</td>\n",
       "      <td>...</td>\n",
       "      <td>2.0</td>\n",
       "      <td>2.0</td>\n",
       "      <td>3.0</td>\n",
       "      <td>3.0</td>\n",
       "      <td>4.0</td>\n",
       "      <td>2.0</td>\n",
       "      <td>2.0</td>\n",
       "      <td>NaN</td>\n",
       "      <td>NaN</td>\n",
       "      <td>2.0</td>\n",
       "    </tr>\n",
       "    <tr>\n",
       "      <th>2</th>\n",
       "      <td>1.0</td>\n",
       "      <td>1.0</td>\n",
       "      <td>b'02012015'</td>\n",
       "      <td>b'02'</td>\n",
       "      <td>b'01'</td>\n",
       "      <td>b'2015'</td>\n",
       "      <td>1200.0</td>\n",
       "      <td>2.015000e+09</td>\n",
       "      <td>2.015000e+09</td>\n",
       "      <td>1.0</td>\n",
       "      <td>...</td>\n",
       "      <td>9.0</td>\n",
       "      <td>9.0</td>\n",
       "      <td>9.0</td>\n",
       "      <td>9.0</td>\n",
       "      <td>9.0</td>\n",
       "      <td>9.0</td>\n",
       "      <td>9.0</td>\n",
       "      <td>9.0</td>\n",
       "      <td>9.0</td>\n",
       "      <td>NaN</td>\n",
       "    </tr>\n",
       "    <tr>\n",
       "      <th>3</th>\n",
       "      <td>1.0</td>\n",
       "      <td>1.0</td>\n",
       "      <td>b'01142015'</td>\n",
       "      <td>b'01'</td>\n",
       "      <td>b'14'</td>\n",
       "      <td>b'2015'</td>\n",
       "      <td>1100.0</td>\n",
       "      <td>2.015000e+09</td>\n",
       "      <td>2.015000e+09</td>\n",
       "      <td>1.0</td>\n",
       "      <td>...</td>\n",
       "      <td>4.0</td>\n",
       "      <td>2.0</td>\n",
       "      <td>1.0</td>\n",
       "      <td>1.0</td>\n",
       "      <td>1.0</td>\n",
       "      <td>1.0</td>\n",
       "      <td>1.0</td>\n",
       "      <td>NaN</td>\n",
       "      <td>NaN</td>\n",
       "      <td>9.0</td>\n",
       "    </tr>\n",
       "    <tr>\n",
       "      <th>4</th>\n",
       "      <td>1.0</td>\n",
       "      <td>1.0</td>\n",
       "      <td>b'01142015'</td>\n",
       "      <td>b'01'</td>\n",
       "      <td>b'14'</td>\n",
       "      <td>b'2015'</td>\n",
       "      <td>1100.0</td>\n",
       "      <td>2.015000e+09</td>\n",
       "      <td>2.015000e+09</td>\n",
       "      <td>1.0</td>\n",
       "      <td>...</td>\n",
       "      <td>4.0</td>\n",
       "      <td>2.0</td>\n",
       "      <td>1.0</td>\n",
       "      <td>1.0</td>\n",
       "      <td>1.0</td>\n",
       "      <td>1.0</td>\n",
       "      <td>1.0</td>\n",
       "      <td>NaN</td>\n",
       "      <td>NaN</td>\n",
       "      <td>1.0</td>\n",
       "    </tr>\n",
       "  </tbody>\n",
       "</table>\n",
       "<p>5 rows × 330 columns</p>\n",
       "</div>"
      ],
      "text/plain": [
       "   _STATE  FMONTH        IDATE IMONTH   IDAY    IYEAR  DISPCODE         SEQNO  \\\n",
       "0     1.0     1.0  b'01292015'  b'01'  b'29'  b'2015'    1200.0  2.015000e+09   \n",
       "1     1.0     1.0  b'01202015'  b'01'  b'20'  b'2015'    1100.0  2.015000e+09   \n",
       "2     1.0     1.0  b'02012015'  b'02'  b'01'  b'2015'    1200.0  2.015000e+09   \n",
       "3     1.0     1.0  b'01142015'  b'01'  b'14'  b'2015'    1100.0  2.015000e+09   \n",
       "4     1.0     1.0  b'01142015'  b'01'  b'14'  b'2015'    1100.0  2.015000e+09   \n",
       "\n",
       "           _PSU  CTELENUM  ...  _PAREC1  _PASTAE1  _LMTACT1  _LMTWRK1  \\\n",
       "0  2.015000e+09       1.0  ...      4.0       2.0       1.0       1.0   \n",
       "1  2.015000e+09       1.0  ...      2.0       2.0       3.0       3.0   \n",
       "2  2.015000e+09       1.0  ...      9.0       9.0       9.0       9.0   \n",
       "3  2.015000e+09       1.0  ...      4.0       2.0       1.0       1.0   \n",
       "4  2.015000e+09       1.0  ...      4.0       2.0       1.0       1.0   \n",
       "\n",
       "   _LMTSCL1  _RFSEAT2  _RFSEAT3  _FLSHOT6  _PNEUMO2  _AIDTST3  \n",
       "0       1.0       1.0       1.0       NaN       NaN       1.0  \n",
       "1       4.0       2.0       2.0       NaN       NaN       2.0  \n",
       "2       9.0       9.0       9.0       9.0       9.0       NaN  \n",
       "3       1.0       1.0       1.0       NaN       NaN       9.0  \n",
       "4       1.0       1.0       1.0       NaN       NaN       1.0  \n",
       "\n",
       "[5 rows x 330 columns]"
      ]
     },
     "execution_count": 120,
     "metadata": {},
     "output_type": "execute_result"
    }
   ],
   "source": [
    "# Read the CSV file from the resources folder into a Pandas DataFrame\n",
    "\n",
    "heart_data_path = Path('resources/heart_data_2015.csv')\n",
    "heart_data_df = pd.read_csv(heart_data_path)\n",
    "\n",
    "# Review the DataFrame\n",
    "heart_data_df.head()"
   ]
  },
  {
   "cell_type": "code",
   "execution_count": 121,
   "metadata": {},
   "outputs": [
    {
     "data": {
      "text/plain": [
       "(441456, 330)"
      ]
     },
     "execution_count": 121,
     "metadata": {},
     "output_type": "execute_result"
    }
   ],
   "source": [
    "# Get the shape of the DataFrame\n",
    "heart_data_df.shape"
   ]
  },
  {
   "cell_type": "code",
   "execution_count": 122,
   "metadata": {},
   "outputs": [
    {
     "data": {
      "text/html": [
       "<div>\n",
       "<style scoped>\n",
       "    .dataframe tbody tr th:only-of-type {\n",
       "        vertical-align: middle;\n",
       "    }\n",
       "\n",
       "    .dataframe tbody tr th {\n",
       "        vertical-align: top;\n",
       "    }\n",
       "\n",
       "    .dataframe thead th {\n",
       "        text-align: right;\n",
       "    }\n",
       "</style>\n",
       "<table border=\"1\" class=\"dataframe\">\n",
       "  <thead>\n",
       "    <tr style=\"text-align: right;\">\n",
       "      <th></th>\n",
       "      <th>_MICHD</th>\n",
       "      <th>BPMEDS</th>\n",
       "      <th>TOLDHI2</th>\n",
       "      <th>CHCKIDNY</th>\n",
       "      <th>CVDINFR4</th>\n",
       "      <th>_BMI5CAT</th>\n",
       "      <th>SMOKDAY2</th>\n",
       "      <th>CVDSTRK3</th>\n",
       "      <th>DIABETE3</th>\n",
       "      <th>_RFDRHV5</th>\n",
       "      <th>DIFFWALK</th>\n",
       "      <th>EXERANY2</th>\n",
       "      <th>SEX</th>\n",
       "      <th>_AGEG5YR</th>\n",
       "    </tr>\n",
       "  </thead>\n",
       "  <tbody>\n",
       "    <tr>\n",
       "      <th>0</th>\n",
       "      <td>2.0</td>\n",
       "      <td>1.0</td>\n",
       "      <td>1.0</td>\n",
       "      <td>2.0</td>\n",
       "      <td>2.0</td>\n",
       "      <td>4.0</td>\n",
       "      <td>3.0</td>\n",
       "      <td>2.0</td>\n",
       "      <td>3.0</td>\n",
       "      <td>1.0</td>\n",
       "      <td>1.0</td>\n",
       "      <td>2.0</td>\n",
       "      <td>2.0</td>\n",
       "      <td>9.0</td>\n",
       "    </tr>\n",
       "    <tr>\n",
       "      <th>1</th>\n",
       "      <td>2.0</td>\n",
       "      <td>NaN</td>\n",
       "      <td>2.0</td>\n",
       "      <td>2.0</td>\n",
       "      <td>2.0</td>\n",
       "      <td>3.0</td>\n",
       "      <td>1.0</td>\n",
       "      <td>2.0</td>\n",
       "      <td>3.0</td>\n",
       "      <td>1.0</td>\n",
       "      <td>2.0</td>\n",
       "      <td>1.0</td>\n",
       "      <td>2.0</td>\n",
       "      <td>7.0</td>\n",
       "    </tr>\n",
       "    <tr>\n",
       "      <th>2</th>\n",
       "      <td>NaN</td>\n",
       "      <td>NaN</td>\n",
       "      <td>1.0</td>\n",
       "      <td>2.0</td>\n",
       "      <td>7.0</td>\n",
       "      <td>2.0</td>\n",
       "      <td>NaN</td>\n",
       "      <td>1.0</td>\n",
       "      <td>3.0</td>\n",
       "      <td>9.0</td>\n",
       "      <td>NaN</td>\n",
       "      <td>NaN</td>\n",
       "      <td>2.0</td>\n",
       "      <td>11.0</td>\n",
       "    </tr>\n",
       "    <tr>\n",
       "      <th>3</th>\n",
       "      <td>2.0</td>\n",
       "      <td>1.0</td>\n",
       "      <td>1.0</td>\n",
       "      <td>2.0</td>\n",
       "      <td>2.0</td>\n",
       "      <td>3.0</td>\n",
       "      <td>NaN</td>\n",
       "      <td>2.0</td>\n",
       "      <td>3.0</td>\n",
       "      <td>1.0</td>\n",
       "      <td>1.0</td>\n",
       "      <td>2.0</td>\n",
       "      <td>2.0</td>\n",
       "      <td>9.0</td>\n",
       "    </tr>\n",
       "    <tr>\n",
       "      <th>4</th>\n",
       "      <td>2.0</td>\n",
       "      <td>NaN</td>\n",
       "      <td>2.0</td>\n",
       "      <td>2.0</td>\n",
       "      <td>2.0</td>\n",
       "      <td>2.0</td>\n",
       "      <td>NaN</td>\n",
       "      <td>2.0</td>\n",
       "      <td>3.0</td>\n",
       "      <td>1.0</td>\n",
       "      <td>2.0</td>\n",
       "      <td>2.0</td>\n",
       "      <td>2.0</td>\n",
       "      <td>9.0</td>\n",
       "    </tr>\n",
       "  </tbody>\n",
       "</table>\n",
       "</div>"
      ],
      "text/plain": [
       "   _MICHD  BPMEDS  TOLDHI2  CHCKIDNY  CVDINFR4  _BMI5CAT  SMOKDAY2  CVDSTRK3  \\\n",
       "0     2.0     1.0      1.0       2.0       2.0       4.0       3.0       2.0   \n",
       "1     2.0     NaN      2.0       2.0       2.0       3.0       1.0       2.0   \n",
       "2     NaN     NaN      1.0       2.0       7.0       2.0       NaN       1.0   \n",
       "3     2.0     1.0      1.0       2.0       2.0       3.0       NaN       2.0   \n",
       "4     2.0     NaN      2.0       2.0       2.0       2.0       NaN       2.0   \n",
       "\n",
       "   DIABETE3  _RFDRHV5  DIFFWALK  EXERANY2  SEX  _AGEG5YR  \n",
       "0       3.0       1.0       1.0       2.0  2.0       9.0  \n",
       "1       3.0       1.0       2.0       1.0  2.0       7.0  \n",
       "2       3.0       9.0       NaN       NaN  2.0      11.0  \n",
       "3       3.0       1.0       1.0       2.0  2.0       9.0  \n",
       "4       3.0       1.0       2.0       2.0  2.0       9.0  "
      ]
     },
     "execution_count": 122,
     "metadata": {},
     "output_type": "execute_result"
    }
   ],
   "source": [
    "# Choose the columns to keep\n",
    "heart_data_cols_df = heart_data_df[[ '_MICHD', \n",
    "                                        'BPMEDS',\n",
    "                                        'TOLDHI2',\n",
    "                                        'CHCKIDNY',\n",
    "                                         'CVDINFR4', \n",
    "                                         '_BMI5CAT', \n",
    "                                         'SMOKDAY2',\n",
    "                                         'CVDSTRK3', \n",
    "                                         'DIABETE3',\n",
    "                                         '_RFDRHV5', \n",
    "                                         'DIFFWALK', \n",
    "                                         'EXERANY2',\n",
    "                                         'SEX', \n",
    "                                         '_AGEG5YR',]]\n",
    "\n",
    "heart_data_cols_df.head()   "
   ]
  },
  {
   "cell_type": "code",
   "execution_count": 123,
   "metadata": {},
   "outputs": [
    {
     "data": {
      "text/plain": [
       "(441456, 14)"
      ]
     },
     "execution_count": 123,
     "metadata": {},
     "output_type": "execute_result"
    }
   ],
   "source": [
    "# Get the shape of the new DataFrame\n",
    "heart_data_cols_df.shape    "
   ]
  },
  {
   "cell_type": "code",
   "execution_count": 124,
   "metadata": {},
   "outputs": [],
   "source": [
    "# Rename the columns    \n",
    "\n",
    "heart_data_cols_df = heart_data_cols_df.rename(columns={'_MICHD': 'heart_disease', \n",
    "                                                        'BPMEDS': 'bp_meds',\n",
    "                                                        'TOLDHI2': 'high_cholesterol',\n",
    "                                                        'CHCKIDNY': 'kidney_disease',\n",
    "                                                        'CVDINFR4': 'heart_attack',\n",
    "                                                        '_BMI5CAT': 'bmi', \n",
    "                                                        'SMOKDAY2': 'smoke_now',\n",
    "                                                        'CVDSTRK3': 'stroke',\n",
    "                                                        'DIABETE3': 'diabetes',\n",
    "                                                        '_RFDRHV5': 'heavy_alcohol',\n",
    "                                                        'DIFFWALK': 'diff_walk',\n",
    "                                                        'EXERANY2': 'exercise',\n",
    "                                                        'SEX': 'sex',\n",
    "                                                        '_AGEG5YR': 'age'})"
   ]
  },
  {
   "cell_type": "code",
   "execution_count": 125,
   "metadata": {},
   "outputs": [
    {
     "data": {
      "text/plain": [
       "(441456, 14)"
      ]
     },
     "execution_count": 125,
     "metadata": {},
     "output_type": "execute_result"
    }
   ],
   "source": [
    "# Check the shape of the DataFrame\n",
    "heart_data_cols_df.shape"
   ]
  },
  {
   "cell_type": "code",
   "execution_count": 126,
   "metadata": {},
   "outputs": [],
   "source": [
    "# Drop all null values\n",
    "heart_data_cols_df = heart_data_cols_df.dropna()"
   ]
  },
  {
   "cell_type": "code",
   "execution_count": 127,
   "metadata": {},
   "outputs": [
    {
     "data": {
      "text/plain": [
       "heart_disease        2\n",
       "bp_meds              4\n",
       "high_cholesterol     4\n",
       "kidney_disease       4\n",
       "heart_attack         4\n",
       "bmi                  4\n",
       "smoke_now            5\n",
       "stroke               4\n",
       "diabetes             6\n",
       "heavy_alcohol        3\n",
       "diff_walk            4\n",
       "exercise             4\n",
       "sex                  2\n",
       "age                 14\n",
       "dtype: int64"
      ]
     },
     "execution_count": 127,
     "metadata": {},
     "output_type": "execute_result"
    }
   ],
   "source": [
    "# Check the unique value counts to see if binning is required\n",
    "heart_data_cols_df.nunique(axis=0)"
   ]
  },
  {
   "cell_type": "code",
   "execution_count": 128,
   "metadata": {},
   "outputs": [
    {
     "data": {
      "text/plain": [
       "heart_disease       float64\n",
       "bp_meds             float64\n",
       "high_cholesterol    float64\n",
       "kidney_disease      float64\n",
       "heart_attack        float64\n",
       "bmi                 float64\n",
       "smoke_now           float64\n",
       "stroke              float64\n",
       "diabetes            float64\n",
       "heavy_alcohol       float64\n",
       "diff_walk           float64\n",
       "exercise            float64\n",
       "sex                 float64\n",
       "age                 float64\n",
       "dtype: object"
      ]
     },
     "execution_count": 128,
     "metadata": {},
     "output_type": "execute_result"
    }
   ],
   "source": [
    "# Check out the data types \n",
    "heart_data_cols_df.dtypes"
   ]
  },
  {
   "cell_type": "code",
   "execution_count": 129,
   "metadata": {},
   "outputs": [
    {
     "name": "stdout",
     "output_type": "stream",
     "text": [
      "Unique values in heart_disease: [2. 1.]\n",
      "Unique values in bp_meds: [1. 2. 7. 9.]\n",
      "Unique values in high_cholesterol: [1. 2. 7. 9.]\n",
      "Unique values in kidney_disease: [2. 7. 1. 9.]\n",
      "Unique values in heart_attack: [2. 1. 7. 9.]\n",
      "Unique values in bmi: [4. 3. 2. 1.]\n",
      "Unique values in smoke_now: [3. 1. 2. 9. 7.]\n",
      "Unique values in stroke: [2. 1. 7. 9.]\n",
      "Unique values in diabetes: [3. 1. 4. 2. 7. 9.]\n",
      "Unique values in heavy_alcohol: [1. 9. 2.]\n",
      "Unique values in diff_walk: [1. 2. 7. 9.]\n",
      "Unique values in exercise: [2. 1. 9. 7.]\n",
      "Unique values in sex: [2. 1.]\n",
      "Unique values in age: [ 9. 10. 11. 13.  7. 12.  8.  6.  4.  3.  5.  1.  2. 14.]\n"
     ]
    }
   ],
   "source": [
    "# Check the unique values in each column to convert to binary zeros and ones \n",
    "column_mapping = {\n",
    "    '_MICHD': 'heart_disease',\n",
    "    'BPMEDS': 'bp_meds',\n",
    "    'TOLDHI2': 'high_cholesterol',\n",
    "    'CHCKIDNY': 'kidney_disease',\n",
    "    'CVDINFR4': 'heart_attack',\n",
    "    '_BMI5': 'bmi',\n",
    "    'SMOKDAY2': 'smoke_now',\n",
    "    'CVDSTRK3': 'stroke',\n",
    "    'DIABETE3': 'diabetes',\n",
    "    '_RFDRHV5': 'heavy_alcohol',\n",
    "    'DIFFWALK': 'diff_walk',\n",
    "    'EXERANY2': 'exercise',\n",
    "    'SEX': 'sex',\n",
    "    '_AGEG5YR': 'age'\n",
    "}\n",
    "\n",
    "# Iterate through columns in the mapping\n",
    "for col_name, new_col_name in column_mapping.items():\n",
    "    unique_values = heart_data_cols_df[new_col_name].unique()\n",
    "    print(f\"Unique values in {new_col_name}: {unique_values}\")\n"
   ]
  },
  {
   "cell_type": "code",
   "execution_count": 130,
   "metadata": {},
   "outputs": [
    {
     "name": "stdout",
     "output_type": "stream",
     "text": [
      "Unique values in heart_disease: [2. 1.]\n",
      "Unique values in bp_meds: [1. 2.]\n",
      "Unique values in high_cholesterol: [1. 2.]\n",
      "Unique values in kidney_disease: [2. 1.]\n",
      "Unique values in heart_attack: [2. 1.]\n",
      "Unique values in bmi: [4. 3. 2. 1.]\n",
      "Unique values in smoke_now: [3. 1. 2.]\n",
      "Unique values in stroke: [2. 1.]\n",
      "Unique values in diabetes: [3. 1. 4. 2.]\n",
      "Unique values in heavy_alcohol: [1. 2.]\n",
      "Unique values in diff_walk: [1. 2.]\n",
      "Unique values in exercise: [2. 1.]\n",
      "Unique values in sex: [2. 1.]\n",
      "Unique values in age: [ 9. 10. 11. 13. 12.  8.  7.  4.  6.  3.  5.  1.  2. 14.]\n"
     ]
    }
   ],
   "source": [
    "# Drop all non 1 and 2 values from the DataFrame except for 'cols_to_exclude'\n",
    "cols_to_exclude = ['age']\n",
    "\n",
    "# Create a condition to filter rows\n",
    "condition = ~heart_data_cols_df.drop(columns=cols_to_exclude).isin([7, 9]).any(axis=1)\n",
    "\n",
    "# Apply the condition to the DataFrame\n",
    "heart_data_cols_df = heart_data_cols_df[condition]\n",
    "\n",
    "# Verify the changes\n",
    "for col_name, new_col_name in column_mapping.items():\n",
    "    unique_values = heart_data_cols_df[new_col_name].unique()\n",
    "    print(f\"Unique values in {new_col_name}: {unique_values}\")"
   ]
  },
  {
   "cell_type": "code",
   "execution_count": 131,
   "metadata": {},
   "outputs": [
    {
     "data": {
      "text/html": [
       "<div>\n",
       "<style scoped>\n",
       "    .dataframe tbody tr th:only-of-type {\n",
       "        vertical-align: middle;\n",
       "    }\n",
       "\n",
       "    .dataframe tbody tr th {\n",
       "        vertical-align: top;\n",
       "    }\n",
       "\n",
       "    .dataframe thead th {\n",
       "        text-align: right;\n",
       "    }\n",
       "</style>\n",
       "<table border=\"1\" class=\"dataframe\">\n",
       "  <thead>\n",
       "    <tr style=\"text-align: right;\">\n",
       "      <th></th>\n",
       "      <th>heart_disease</th>\n",
       "      <th>bp_meds</th>\n",
       "      <th>high_cholesterol</th>\n",
       "      <th>kidney_disease</th>\n",
       "      <th>heart_attack</th>\n",
       "      <th>bmi</th>\n",
       "      <th>smoke_now</th>\n",
       "      <th>stroke</th>\n",
       "      <th>diabetes</th>\n",
       "      <th>heavy_alcohol</th>\n",
       "      <th>diff_walk</th>\n",
       "      <th>exercise</th>\n",
       "      <th>sex</th>\n",
       "      <th>age</th>\n",
       "    </tr>\n",
       "  </thead>\n",
       "  <tbody>\n",
       "    <tr>\n",
       "      <th>0</th>\n",
       "      <td>2.0</td>\n",
       "      <td>1.0</td>\n",
       "      <td>1.0</td>\n",
       "      <td>2.0</td>\n",
       "      <td>2.0</td>\n",
       "      <td>4.0</td>\n",
       "      <td>3.0</td>\n",
       "      <td>2.0</td>\n",
       "      <td>3.0</td>\n",
       "      <td>1.0</td>\n",
       "      <td>1.0</td>\n",
       "      <td>2.0</td>\n",
       "      <td>2.0</td>\n",
       "      <td>9.0</td>\n",
       "    </tr>\n",
       "    <tr>\n",
       "      <th>9</th>\n",
       "      <td>2.0</td>\n",
       "      <td>1.0</td>\n",
       "      <td>1.0</td>\n",
       "      <td>2.0</td>\n",
       "      <td>2.0</td>\n",
       "      <td>3.0</td>\n",
       "      <td>3.0</td>\n",
       "      <td>2.0</td>\n",
       "      <td>3.0</td>\n",
       "      <td>1.0</td>\n",
       "      <td>2.0</td>\n",
       "      <td>1.0</td>\n",
       "      <td>1.0</td>\n",
       "      <td>10.0</td>\n",
       "    </tr>\n",
       "    <tr>\n",
       "      <th>10</th>\n",
       "      <td>2.0</td>\n",
       "      <td>1.0</td>\n",
       "      <td>2.0</td>\n",
       "      <td>2.0</td>\n",
       "      <td>2.0</td>\n",
       "      <td>4.0</td>\n",
       "      <td>3.0</td>\n",
       "      <td>2.0</td>\n",
       "      <td>3.0</td>\n",
       "      <td>1.0</td>\n",
       "      <td>2.0</td>\n",
       "      <td>2.0</td>\n",
       "      <td>2.0</td>\n",
       "      <td>9.0</td>\n",
       "    </tr>\n",
       "    <tr>\n",
       "      <th>15</th>\n",
       "      <td>2.0</td>\n",
       "      <td>1.0</td>\n",
       "      <td>1.0</td>\n",
       "      <td>2.0</td>\n",
       "      <td>2.0</td>\n",
       "      <td>3.0</td>\n",
       "      <td>1.0</td>\n",
       "      <td>2.0</td>\n",
       "      <td>3.0</td>\n",
       "      <td>1.0</td>\n",
       "      <td>1.0</td>\n",
       "      <td>1.0</td>\n",
       "      <td>2.0</td>\n",
       "      <td>11.0</td>\n",
       "    </tr>\n",
       "    <tr>\n",
       "      <th>16</th>\n",
       "      <td>1.0</td>\n",
       "      <td>1.0</td>\n",
       "      <td>1.0</td>\n",
       "      <td>2.0</td>\n",
       "      <td>1.0</td>\n",
       "      <td>4.0</td>\n",
       "      <td>1.0</td>\n",
       "      <td>2.0</td>\n",
       "      <td>1.0</td>\n",
       "      <td>1.0</td>\n",
       "      <td>1.0</td>\n",
       "      <td>2.0</td>\n",
       "      <td>2.0</td>\n",
       "      <td>9.0</td>\n",
       "    </tr>\n",
       "  </tbody>\n",
       "</table>\n",
       "</div>"
      ],
      "text/plain": [
       "    heart_disease  bp_meds  high_cholesterol  kidney_disease  heart_attack  \\\n",
       "0             2.0      1.0               1.0             2.0           2.0   \n",
       "9             2.0      1.0               1.0             2.0           2.0   \n",
       "10            2.0      1.0               2.0             2.0           2.0   \n",
       "15            2.0      1.0               1.0             2.0           2.0   \n",
       "16            1.0      1.0               1.0             2.0           1.0   \n",
       "\n",
       "    bmi  smoke_now  stroke  diabetes  heavy_alcohol  diff_walk  exercise  sex  \\\n",
       "0   4.0        3.0     2.0       3.0            1.0        1.0       2.0  2.0   \n",
       "9   3.0        3.0     2.0       3.0            1.0        2.0       1.0  1.0   \n",
       "10  4.0        3.0     2.0       3.0            1.0        2.0       2.0  2.0   \n",
       "15  3.0        1.0     2.0       3.0            1.0        1.0       1.0  2.0   \n",
       "16  4.0        1.0     2.0       1.0            1.0        1.0       2.0  2.0   \n",
       "\n",
       "     age  \n",
       "0    9.0  \n",
       "9   10.0  \n",
       "10   9.0  \n",
       "15  11.0  \n",
       "16   9.0  "
      ]
     },
     "execution_count": 131,
     "metadata": {},
     "output_type": "execute_result"
    }
   ],
   "source": [
    "heart_data_cols_df.head()"
   ]
  },
  {
   "cell_type": "code",
   "execution_count": 132,
   "metadata": {},
   "outputs": [
    {
     "name": "stdout",
     "output_type": "stream",
     "text": [
      "0.0    53636\n",
      "1.0    14168\n",
      "Name: heart_disease, dtype: int64\n"
     ]
    }
   ],
   "source": [
    "# Set the binary values for the heart_disease column\n",
    "heart_data_cols_df['heart_disease'] = heart_data_cols_df['heart_disease'].replace({2: 0})\n",
    "\n",
    "# Verify the changes\n",
    "print(heart_data_cols_df['heart_disease'].value_counts())"
   ]
  },
  {
   "cell_type": "code",
   "execution_count": 133,
   "metadata": {},
   "outputs": [
    {
     "name": "stdout",
     "output_type": "stream",
     "text": [
      "1.0    58069\n",
      "0.0     9735\n",
      "Name: bp_meds, dtype: int64\n"
     ]
    }
   ],
   "source": [
    "# Set the binary values for the bp_meds column\n",
    "heart_data_cols_df['bp_meds'] = heart_data_cols_df['bp_meds'].replace({2: 0})\n",
    "# Verify the changes\n",
    "print(heart_data_cols_df['bp_meds'].value_counts())"
   ]
  },
  {
   "cell_type": "code",
   "execution_count": 134,
   "metadata": {},
   "outputs": [
    {
     "name": "stdout",
     "output_type": "stream",
     "text": [
      "0.0    42473\n",
      "1.0    25331\n",
      "Name: high_cholesterol, dtype: int64\n"
     ]
    }
   ],
   "source": [
    "# Set the binary values for the high_cholesterol column\n",
    "heart_data_cols_df['high_cholesterol'] = heart_data_cols_df['high_cholesterol'].replace({2: 1, 1:0})\n",
    "# Verify the changes\n",
    "print(heart_data_cols_df['high_cholesterol'].value_counts())"
   ]
  },
  {
   "cell_type": "code",
   "execution_count": 135,
   "metadata": {},
   "outputs": [
    {
     "name": "stdout",
     "output_type": "stream",
     "text": [
      "0.0    63049\n",
      "1.0     4755\n",
      "Name: kidney_disease, dtype: int64\n"
     ]
    }
   ],
   "source": [
    "# Set the binary values for the kidney_disease column\n",
    "heart_data_cols_df['kidney_disease'] = heart_data_cols_df['kidney_disease'].replace({2: 0})\n",
    "# Verify the changes\n",
    "print(heart_data_cols_df['kidney_disease'].value_counts())"
   ]
  },
  {
   "cell_type": "code",
   "execution_count": 136,
   "metadata": {},
   "outputs": [
    {
     "name": "stdout",
     "output_type": "stream",
     "text": [
      "0.0    57990\n",
      "1.0     9814\n",
      "Name: heart_attack, dtype: int64\n"
     ]
    }
   ],
   "source": [
    "# Set the binary values for the heart_attack column\n",
    "heart_data_cols_df['heart_attack' ] = heart_data_cols_df['heart_attack'].replace({2:0})\n",
    "# Verify the changes\n",
    "print(heart_data_cols_df['heart_attack'].value_counts())"
   ]
  },
  {
   "cell_type": "code",
   "execution_count": 137,
   "metadata": {},
   "outputs": [
    {
     "name": "stdout",
     "output_type": "stream",
     "text": [
      "0.0    49719\n",
      "1.0    18085\n",
      "Name: smoke_now, dtype: int64\n"
     ]
    }
   ],
   "source": [
    "# Set the binary values for the smoke_now column\n",
    "heart_data_cols_df['smoke_now' ] = heart_data_cols_df['smoke_now'].replace({2:1, 3:0})\n",
    "# Verify the changes\n",
    "print(heart_data_cols_df['smoke_now'].value_counts())"
   ]
  },
  {
   "cell_type": "code",
   "execution_count": 138,
   "metadata": {},
   "outputs": [
    {
     "name": "stdout",
     "output_type": "stream",
     "text": [
      "0.0    61756\n",
      "1.0     6048\n",
      "Name: stroke, dtype: int64\n"
     ]
    }
   ],
   "source": [
    "# Set the binary values for the stroke column\n",
    "heart_data_cols_df['stroke' ] = heart_data_cols_df['stroke'].replace({2:0})\n",
    "# Verify the changes\n",
    "print(heart_data_cols_df['stroke'].value_counts())"
   ]
  },
  {
   "cell_type": "code",
   "execution_count": 139,
   "metadata": {},
   "outputs": [
    {
     "name": "stdout",
     "output_type": "stream",
     "text": [
      "0.0    50326\n",
      "1.0    17478\n",
      "Name: diabetes, dtype: int64\n"
     ]
    }
   ],
   "source": [
    "# Set the binary values for the diabetes column\n",
    "heart_data_cols_df['diabetes' ] = heart_data_cols_df['diabetes'].replace({2:0, 3:0, 4:0})\n",
    "# Verify the changes\n",
    "print(heart_data_cols_df['diabetes'].value_counts())"
   ]
  },
  {
   "cell_type": "code",
   "execution_count": 140,
   "metadata": {},
   "outputs": [
    {
     "name": "stdout",
     "output_type": "stream",
     "text": [
      "0.0    62864\n",
      "1.0     4940\n",
      "Name: heavy_alcohol, dtype: int64\n"
     ]
    }
   ],
   "source": [
    "# Set the binary values for the heavy_alcohol column\n",
    "heart_data_cols_df['heavy_alcohol' ] = heart_data_cols_df['heavy_alcohol'].replace({2:1, 1:0})\n",
    "# Verify the changes\n",
    "print(heart_data_cols_df['heavy_alcohol'].value_counts())"
   ]
  },
  {
   "cell_type": "code",
   "execution_count": 141,
   "metadata": {},
   "outputs": [
    {
     "name": "stdout",
     "output_type": "stream",
     "text": [
      "0.0    46229\n",
      "1.0    21575\n",
      "Name: diff_walk, dtype: int64\n"
     ]
    }
   ],
   "source": [
    "# Set the binary values for the diff_walk column\n",
    "heart_data_cols_df['diff_walk' ] = heart_data_cols_df['diff_walk'].replace({2:0})\n",
    "# Verify the changes\n",
    "print(heart_data_cols_df['diff_walk'].value_counts())"
   ]
  },
  {
   "cell_type": "code",
   "execution_count": 142,
   "metadata": {},
   "outputs": [
    {
     "name": "stdout",
     "output_type": "stream",
     "text": [
      "1.0    44449\n",
      "0.0    23355\n",
      "Name: exercise, dtype: int64\n"
     ]
    }
   ],
   "source": [
    "# Set the binary values for the exercise column\n",
    "heart_data_cols_df['exercise' ] = heart_data_cols_df['exercise'].replace({2:0})\n",
    "# Verify the changes\n",
    "print(heart_data_cols_df['exercise'].value_counts())"
   ]
  },
  {
   "cell_type": "code",
   "execution_count": 143,
   "metadata": {},
   "outputs": [
    {
     "name": "stdout",
     "output_type": "stream",
     "text": [
      "1.0    34959\n",
      "0.0    32845\n",
      "Name: sex, dtype: int64\n"
     ]
    }
   ],
   "source": [
    "# Set the binary values for the sex column\n",
    "heart_data_cols_df['sex' ] = heart_data_cols_df['sex'].replace({2:0})\n",
    "# Verify the changes\n",
    "print(heart_data_cols_df['sex'].value_counts())"
   ]
  },
  {
   "cell_type": "code",
   "execution_count": 144,
   "metadata": {},
   "outputs": [
    {
     "name": "stdout",
     "output_type": "stream",
     "text": [
      "Unique values in heart_disease: [0. 1.]\n",
      "Unique values in bp_meds: [1. 0.]\n",
      "Unique values in high_cholesterol: [0. 1.]\n",
      "Unique values in kidney_disease: [0. 1.]\n",
      "Unique values in heart_attack: [0. 1.]\n",
      "Unique values in bmi: [4. 3. 2. 1.]\n",
      "Unique values in smoke_now: [0. 1.]\n",
      "Unique values in stroke: [0. 1.]\n",
      "Unique values in diabetes: [0. 1.]\n",
      "Unique values in heavy_alcohol: [0. 1.]\n",
      "Unique values in diff_walk: [1. 0.]\n",
      "Unique values in exercise: [0. 1.]\n",
      "Unique values in sex: [0. 1.]\n",
      "Unique values in age: [ 9. 10. 11. 13. 12.  8.  7.  4.  6.  3.  5.  1.  2. 14.]\n"
     ]
    }
   ],
   "source": [
    "# Verify the changes\n",
    "for col_name, new_col_name in column_mapping.items():\n",
    "    unique_values = heart_data_cols_df[new_col_name].unique()\n",
    "    print(f\"Unique values in {new_col_name}: {unique_values}\")"
   ]
  },
  {
   "cell_type": "code",
   "execution_count": 145,
   "metadata": {},
   "outputs": [],
   "source": [
    "# # Specify the non-binary columns and get dummies for them\n",
    "# non_binary_columns_to_dummies = ['age', 'bmi']  \n",
    "# df_dummies = pd.get_dummies(heart_data_cols_df, columns=non_binary_columns_to_dummies)\n",
    "\n",
    "# # Reset the index of the DataFrame\n",
    "# df_dummies = df_dummies.reset_index(drop=True)\n",
    "# # Preview the DataFrame\n",
    "# df_dummies.head()"
   ]
  },
  {
   "cell_type": "code",
   "execution_count": 146,
   "metadata": {},
   "outputs": [],
   "source": [
    "# Separate the data into labels and features\n",
    "# Create the labels (y) from the 'heart_disease' column\n",
    "y = heart_data_cols_df['heart_disease']\n",
    "\n",
    "# Create the features (X) DataFrame from the remaining columns\n",
    "X = heart_data_cols_df.drop('heart_disease', axis=1)"
   ]
  },
  {
   "cell_type": "code",
   "execution_count": 147,
   "metadata": {},
   "outputs": [
    {
     "name": "stdout",
     "output_type": "stream",
     "text": [
      "0         0.0\n",
      "9         0.0\n",
      "10        0.0\n",
      "15        0.0\n",
      "16        1.0\n",
      "         ... \n",
      "441350    0.0\n",
      "441358    0.0\n",
      "441361    0.0\n",
      "441431    0.0\n",
      "441446    1.0\n",
      "Name: heart_disease, Length: 67804, dtype: float64\n"
     ]
    }
   ],
   "source": [
    "# Review the y variable Series\n",
    "print(y)"
   ]
  },
  {
   "cell_type": "code",
   "execution_count": 148,
   "metadata": {},
   "outputs": [
    {
     "name": "stdout",
     "output_type": "stream",
     "text": [
      "    bp_meds  high_cholesterol  kidney_disease  heart_attack  bmi  smoke_now  \\\n",
      "0       1.0               0.0             0.0           0.0  4.0        0.0   \n",
      "9       1.0               0.0             0.0           0.0  3.0        0.0   \n",
      "10      1.0               1.0             0.0           0.0  4.0        0.0   \n",
      "15      1.0               0.0             0.0           0.0  3.0        1.0   \n",
      "16      1.0               0.0             0.0           1.0  4.0        1.0   \n",
      "\n",
      "    stroke  diabetes  heavy_alcohol  diff_walk  exercise  sex   age  \n",
      "0      0.0       0.0            0.0        1.0       0.0  0.0   9.0  \n",
      "9      0.0       0.0            0.0        0.0       1.0  1.0  10.0  \n",
      "10     0.0       0.0            0.0        0.0       0.0  0.0   9.0  \n",
      "15     0.0       0.0            0.0        1.0       1.0  0.0  11.0  \n",
      "16     0.0       1.0            0.0        1.0       0.0  0.0   9.0  \n"
     ]
    }
   ],
   "source": [
    "# Review the X variable DataFrame\n",
    "print(X.head())"
   ]
  },
  {
   "cell_type": "code",
   "execution_count": 149,
   "metadata": {},
   "outputs": [
    {
     "name": "stdout",
     "output_type": "stream",
     "text": [
      "0.0    53636\n",
      "1.0    14168\n",
      "Name: heart_disease, dtype: int64\n"
     ]
    }
   ],
   "source": [
    "# Check the balance of our target values\n",
    "y_balance = y.value_counts()\n",
    "print(y_balance)"
   ]
  },
  {
   "cell_type": "code",
   "execution_count": 150,
   "metadata": {},
   "outputs": [],
   "source": [
    "# Split the data using train_test_split\n",
    "# Assign a random_state of 1 to the function  \n",
    "X_train, X_test, y_train, y_test = train_test_split(X, \n",
    "                                                    y, \n",
    "                                                    stratify=y, \n",
    "                                                    random_state=1)"
   ]
  },
  {
   "cell_type": "code",
   "execution_count": 151,
   "metadata": {},
   "outputs": [
    {
     "name": "stderr",
     "output_type": "stream",
     "text": [
      "/Users/terryannbarnett/anaconda3/envs/yourenvname/lib/python3.10/site-packages/sklearn/linear_model/_logistic.py:458: ConvergenceWarning: lbfgs failed to converge (status=1):\n",
      "STOP: TOTAL NO. of ITERATIONS REACHED LIMIT.\n",
      "\n",
      "Increase the number of iterations (max_iter) or scale the data as shown in:\n",
      "    https://scikit-learn.org/stable/modules/preprocessing.html\n",
      "Please also refer to the documentation for alternative solver options:\n",
      "    https://scikit-learn.org/stable/modules/linear_model.html#logistic-regression\n",
      "  n_iter_i = _check_optimize_result(\n"
     ]
    },
    {
     "data": {
      "text/html": [
       "<style>#sk-container-id-2 {color: black;background-color: white;}#sk-container-id-2 pre{padding: 0;}#sk-container-id-2 div.sk-toggleable {background-color: white;}#sk-container-id-2 label.sk-toggleable__label {cursor: pointer;display: block;width: 100%;margin-bottom: 0;padding: 0.3em;box-sizing: border-box;text-align: center;}#sk-container-id-2 label.sk-toggleable__label-arrow:before {content: \"▸\";float: left;margin-right: 0.25em;color: #696969;}#sk-container-id-2 label.sk-toggleable__label-arrow:hover:before {color: black;}#sk-container-id-2 div.sk-estimator:hover label.sk-toggleable__label-arrow:before {color: black;}#sk-container-id-2 div.sk-toggleable__content {max-height: 0;max-width: 0;overflow: hidden;text-align: left;background-color: #f0f8ff;}#sk-container-id-2 div.sk-toggleable__content pre {margin: 0.2em;color: black;border-radius: 0.25em;background-color: #f0f8ff;}#sk-container-id-2 input.sk-toggleable__control:checked~div.sk-toggleable__content {max-height: 200px;max-width: 100%;overflow: auto;}#sk-container-id-2 input.sk-toggleable__control:checked~label.sk-toggleable__label-arrow:before {content: \"▾\";}#sk-container-id-2 div.sk-estimator input.sk-toggleable__control:checked~label.sk-toggleable__label {background-color: #d4ebff;}#sk-container-id-2 div.sk-label input.sk-toggleable__control:checked~label.sk-toggleable__label {background-color: #d4ebff;}#sk-container-id-2 input.sk-hidden--visually {border: 0;clip: rect(1px 1px 1px 1px);clip: rect(1px, 1px, 1px, 1px);height: 1px;margin: -1px;overflow: hidden;padding: 0;position: absolute;width: 1px;}#sk-container-id-2 div.sk-estimator {font-family: monospace;background-color: #f0f8ff;border: 1px dotted black;border-radius: 0.25em;box-sizing: border-box;margin-bottom: 0.5em;}#sk-container-id-2 div.sk-estimator:hover {background-color: #d4ebff;}#sk-container-id-2 div.sk-parallel-item::after {content: \"\";width: 100%;border-bottom: 1px solid gray;flex-grow: 1;}#sk-container-id-2 div.sk-label:hover label.sk-toggleable__label {background-color: #d4ebff;}#sk-container-id-2 div.sk-serial::before {content: \"\";position: absolute;border-left: 1px solid gray;box-sizing: border-box;top: 0;bottom: 0;left: 50%;z-index: 0;}#sk-container-id-2 div.sk-serial {display: flex;flex-direction: column;align-items: center;background-color: white;padding-right: 0.2em;padding-left: 0.2em;position: relative;}#sk-container-id-2 div.sk-item {position: relative;z-index: 1;}#sk-container-id-2 div.sk-parallel {display: flex;align-items: stretch;justify-content: center;background-color: white;position: relative;}#sk-container-id-2 div.sk-item::before, #sk-container-id-2 div.sk-parallel-item::before {content: \"\";position: absolute;border-left: 1px solid gray;box-sizing: border-box;top: 0;bottom: 0;left: 50%;z-index: -1;}#sk-container-id-2 div.sk-parallel-item {display: flex;flex-direction: column;z-index: 1;position: relative;background-color: white;}#sk-container-id-2 div.sk-parallel-item:first-child::after {align-self: flex-end;width: 50%;}#sk-container-id-2 div.sk-parallel-item:last-child::after {align-self: flex-start;width: 50%;}#sk-container-id-2 div.sk-parallel-item:only-child::after {width: 0;}#sk-container-id-2 div.sk-dashed-wrapped {border: 1px dashed gray;margin: 0 0.4em 0.5em 0.4em;box-sizing: border-box;padding-bottom: 0.4em;background-color: white;}#sk-container-id-2 div.sk-label label {font-family: monospace;font-weight: bold;display: inline-block;line-height: 1.2em;}#sk-container-id-2 div.sk-label-container {text-align: center;}#sk-container-id-2 div.sk-container {/* jupyter's `normalize.less` sets `[hidden] { display: none; }` but bootstrap.min.css set `[hidden] { display: none !important; }` so we also need the `!important` here to be able to override the default hidden behavior on the sphinx rendered scikit-learn.org. See: https://github.com/scikit-learn/scikit-learn/issues/21755 */display: inline-block !important;position: relative;}#sk-container-id-2 div.sk-text-repr-fallback {display: none;}</style><div id=\"sk-container-id-2\" class=\"sk-top-container\"><div class=\"sk-text-repr-fallback\"><pre>LogisticRegression(random_state=1)</pre><b>In a Jupyter environment, please rerun this cell to show the HTML representation or trust the notebook. <br />On GitHub, the HTML representation is unable to render, please try loading this page with nbviewer.org.</b></div><div class=\"sk-container\" hidden><div class=\"sk-item\"><div class=\"sk-estimator sk-toggleable\"><input class=\"sk-toggleable__control sk-hidden--visually\" id=\"sk-estimator-id-2\" type=\"checkbox\" checked><label for=\"sk-estimator-id-2\" class=\"sk-toggleable__label sk-toggleable__label-arrow\">LogisticRegression</label><div class=\"sk-toggleable__content\"><pre>LogisticRegression(random_state=1)</pre></div></div></div></div></div>"
      ],
      "text/plain": [
       "LogisticRegression(random_state=1)"
      ]
     },
     "execution_count": 151,
     "metadata": {},
     "output_type": "execute_result"
    }
   ],
   "source": [
    "# Instantiate the Logistic Regression model\n",
    "# Assign a random_state parameter of 1 to the model\n",
    "logistic_reg_model = LogisticRegression(random_state=1) \n",
    "\n",
    "# Fit the model using training data\n",
    "logistic_reg_model.fit(X_train, y_train)  "
   ]
  },
  {
   "cell_type": "code",
   "execution_count": 152,
   "metadata": {},
   "outputs": [],
   "source": [
    "# Make a prediction using the testing data\n",
    "y_pred = logistic_reg_model.predict(X_test) "
   ]
  },
  {
   "cell_type": "code",
   "execution_count": 153,
   "metadata": {},
   "outputs": [
    {
     "name": "stdout",
     "output_type": "stream",
     "text": [
      "0.8482495765104461\n"
     ]
    }
   ],
   "source": [
    "# Print the balanced_accuracy score of the model\n",
    "balanced_acc_score = balanced_accuracy_score(y_test, y_pred)\n",
    "print(balanced_acc_score)"
   ]
  },
  {
   "cell_type": "code",
   "execution_count": 154,
   "metadata": {},
   "outputs": [
    {
     "name": "stdout",
     "output_type": "stream",
     "text": [
      "[[13409     0]\n",
      " [ 1075  2467]]\n"
     ]
    }
   ],
   "source": [
    "# Generate a confusion matrix for the model\n",
    "confusion_matrix= confusion_matrix(y_test, y_pred) \n",
    "print(confusion_matrix)"
   ]
  },
  {
   "cell_type": "code",
   "execution_count": 155,
   "metadata": {},
   "outputs": [
    {
     "name": "stdout",
     "output_type": "stream",
     "text": [
      "CLASSIFICATION REPORT FOR THE DATA \n",
      "\n",
      "              precision    recall  f1-score   support\n",
      "\n",
      "   High Risk       0.93      1.00      0.96     13409\n",
      "    Low Risk       1.00      0.70      0.82      3542\n",
      "\n",
      "    accuracy                           0.94     16951\n",
      "   macro avg       0.96      0.85      0.89     16951\n",
      "weighted avg       0.94      0.94      0.93     16951\n",
      "\n"
     ]
    }
   ],
   "source": [
    "target_names = ['High Risk', 'Low Risk']  \n",
    "print('CLASSIFICATION REPORT FOR THE DATA \\n')  \n",
    "print(classification_report(y_test, y_pred, \n",
    "                            target_names=target_names))"
   ]
  },
  {
   "cell_type": "code",
   "execution_count": 190,
   "metadata": {},
   "outputs": [
    {
     "data": {
      "text/plain": [
       "['heart_log_reg_model.joblib']"
      ]
     },
     "execution_count": 190,
     "metadata": {},
     "output_type": "execute_result"
    }
   ],
   "source": [
    "from sklearn.linear_model import LogisticRegression\n",
    "import joblib\n",
    "# Save the model to a file\n",
    "logreg = LogisticRegression()\n",
    "joblib.dump(logreg, 'heart_log_reg_model.joblib')"
   ]
  }
 ],
 "metadata": {
  "kernelspec": {
   "display_name": "yourenvname",
   "language": "python",
   "name": "python3"
  },
  "language_info": {
   "codemirror_mode": {
    "name": "ipython",
    "version": 3
   },
   "file_extension": ".py",
   "mimetype": "text/x-python",
   "name": "python",
   "nbconvert_exporter": "python",
   "pygments_lexer": "ipython3",
   "version": "3.10.12"
  }
 },
 "nbformat": 4,
 "nbformat_minor": 2
}
